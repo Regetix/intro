{
  "nbformat": 4,
  "nbformat_minor": 0,
  "metadata": {
    "kernelspec": {
      "display_name": "Python 3",
      "language": "python",
      "name": "python3"
    },
    "language_info": {
      "codemirror_mode": {
        "name": "ipython",
        "version": 3
      },
      "file_extension": ".py",
      "mimetype": "text/x-python",
      "name": "python",
      "nbconvert_exporter": "python",
      "pygments_lexer": "ipython3",
      "version": "3.7.6"
    },
    "colab": {
      "name": "matplotlib pyplot Tutorial.ipynb",
      "provenance": [],
      "include_colab_link": true
    }
  },
  "cells": [
    {
      "cell_type": "markdown",
      "metadata": {
        "id": "view-in-github",
        "colab_type": "text"
      },
      "source": [
        "<a href=\"https://colab.research.google.com/github/Regetix/intro/blob/main/matplotlib_pyplot_Tutorial.ipynb\" target=\"_parent\"><img src=\"https://colab.research.google.com/assets/colab-badge.svg\" alt=\"Open In Colab\"/></a>"
      ]
    },
    {
      "cell_type": "code",
      "metadata": {
        "id": "x91aAzwFXpEo"
      },
      "source": [
        "import matplotlib.pyplot as plt\n",
        "import numpy as np"
      ],
      "execution_count": null,
      "outputs": []
    },
    {
      "cell_type": "markdown",
      "metadata": {
        "id": "7vnUcbw3XpEs"
      },
      "source": [
        "#### Intro to pyplot"
      ]
    },
    {
      "cell_type": "code",
      "metadata": {
        "colab": {
          "base_uri": "https://localhost:8080/"
        },
        "id": "g1Z_5_10ZYse",
        "outputId": "ce418137-1903-4354-c475-134c73946972"
      },
      "source": [
        "print(plt.plot.__doc__)"
      ],
      "execution_count": null,
      "outputs": [
        {
          "output_type": "stream",
          "text": [
            "Plot y versus x as lines and/or markers.\n",
            "\n",
            "Call signatures::\n",
            "\n",
            "    plot([x], y, [fmt], *, data=None, **kwargs)\n",
            "    plot([x], y, [fmt], [x2], y2, [fmt2], ..., **kwargs)\n",
            "\n",
            "The coordinates of the points or line nodes are given by *x*, *y*.\n",
            "\n",
            "The optional parameter *fmt* is a convenient way for defining basic\n",
            "formatting like color, marker and linestyle. It's a shortcut string\n",
            "notation described in the *Notes* section below.\n",
            "\n",
            ">>> plot(x, y)        # plot x and y using default line style and color\n",
            ">>> plot(x, y, 'bo')  # plot x and y using blue circle markers\n",
            ">>> plot(y)           # plot y using x as index array 0..N-1\n",
            ">>> plot(y, 'r+')     # ditto, but with red plusses\n",
            "\n",
            "You can use `.Line2D` properties as keyword arguments for more\n",
            "control on the appearance. Line properties and *fmt* can be mixed.\n",
            "The following two calls yield identical results:\n",
            "\n",
            ">>> plot(x, y, 'go--', linewidth=2, markersize=12)\n",
            ">>> plot(x, y, color='green', marker='o', linestyle='dashed',\n",
            "...      linewidth=2, markersize=12)\n",
            "\n",
            "When conflicting with *fmt*, keyword arguments take precedence.\n",
            "\n",
            "\n",
            "**Plotting labelled data**\n",
            "\n",
            "There's a convenient way for plotting objects with labelled data (i.e.\n",
            "data that can be accessed by index ``obj['y']``). Instead of giving\n",
            "the data in *x* and *y*, you can provide the object in the *data*\n",
            "parameter and just give the labels for *x* and *y*::\n",
            "\n",
            ">>> plot('xlabel', 'ylabel', data=obj)\n",
            "\n",
            "All indexable objects are supported. This could e.g. be a `dict`, a\n",
            "`pandas.DataFame` or a structured numpy array.\n",
            "\n",
            "\n",
            "**Plotting multiple sets of data**\n",
            "\n",
            "There are various ways to plot multiple sets of data.\n",
            "\n",
            "- The most straight forward way is just to call `plot` multiple times.\n",
            "  Example:\n",
            "\n",
            "  >>> plot(x1, y1, 'bo')\n",
            "  >>> plot(x2, y2, 'go')\n",
            "\n",
            "- Alternatively, if your data is already a 2d array, you can pass it\n",
            "  directly to *x*, *y*. A separate data set will be drawn for every\n",
            "  column.\n",
            "\n",
            "  Example: an array ``a`` where the first column represents the *x*\n",
            "  values and the other columns are the *y* columns::\n",
            "\n",
            "  >>> plot(a[0], a[1:])\n",
            "\n",
            "- The third way is to specify multiple sets of *[x]*, *y*, *[fmt]*\n",
            "  groups::\n",
            "\n",
            "  >>> plot(x1, y1, 'g^', x2, y2, 'g-')\n",
            "\n",
            "  In this case, any additional keyword argument applies to all\n",
            "  datasets. Also this syntax cannot be combined with the *data*\n",
            "  parameter.\n",
            "\n",
            "By default, each line is assigned a different style specified by a\n",
            "'style cycle'. The *fmt* and line property parameters are only\n",
            "necessary if you want explicit deviations from these defaults.\n",
            "Alternatively, you can also change the style cycle using\n",
            ":rc:`axes.prop_cycle`.\n",
            "\n",
            "\n",
            "Parameters\n",
            "----------\n",
            "x, y : array-like or scalar\n",
            "    The horizontal / vertical coordinates of the data points.\n",
            "    *x* values are optional and default to `range(len(y))`.\n",
            "\n",
            "    Commonly, these parameters are 1D arrays.\n",
            "\n",
            "    They can also be scalars, or two-dimensional (in that case, the\n",
            "    columns represent separate data sets).\n",
            "\n",
            "    These arguments cannot be passed as keywords.\n",
            "\n",
            "fmt : str, optional\n",
            "    A format string, e.g. 'ro' for red circles. See the *Notes*\n",
            "    section for a full description of the format strings.\n",
            "\n",
            "    Format strings are just an abbreviation for quickly setting\n",
            "    basic line properties. All of these and more can also be\n",
            "    controlled by keyword arguments.\n",
            "\n",
            "    This argument cannot be passed as keyword.\n",
            "\n",
            "data : indexable object, optional\n",
            "    An object with labelled data. If given, provide the label names to\n",
            "    plot in *x* and *y*.\n",
            "\n",
            "    .. note::\n",
            "        Technically there's a slight ambiguity in calls where the\n",
            "        second label is a valid *fmt*. `plot('n', 'o', data=obj)`\n",
            "        could be `plt(x, y)` or `plt(y, fmt)`. In such cases,\n",
            "        the former interpretation is chosen, but a warning is issued.\n",
            "        You may suppress the warning by adding an empty format string\n",
            "        `plot('n', 'o', '', data=obj)`.\n",
            "\n",
            "Other Parameters\n",
            "----------------\n",
            "scalex, scaley : bool, optional, default: True\n",
            "    These parameters determined if the view limits are adapted to\n",
            "    the data limits. The values are passed on to `autoscale_view`.\n",
            "\n",
            "**kwargs : `.Line2D` properties, optional\n",
            "    *kwargs* are used to specify properties like a line label (for\n",
            "    auto legends), linewidth, antialiasing, marker face color.\n",
            "    Example::\n",
            "\n",
            "    >>> plot([1, 2, 3], [1, 2, 3], 'go-', label='line 1', linewidth=2)\n",
            "    >>> plot([1, 2, 3], [1, 4, 9], 'rs', label='line 2')\n",
            "\n",
            "    If you make multiple lines with one plot command, the kwargs\n",
            "    apply to all those lines.\n",
            "\n",
            "    Here is a list of available `.Line2D` properties:\n",
            "\n",
            "    Properties:\n",
            "    agg_filter: a filter function, which takes a (m, n, 3) float array and a dpi value, and returns a (m, n, 3) array\n",
            "    alpha: float or None\n",
            "    animated: bool\n",
            "    antialiased or aa: bool\n",
            "    clip_box: `.Bbox`\n",
            "    clip_on: bool\n",
            "    clip_path: Patch or (Path, Transform) or None\n",
            "    color or c: color\n",
            "    contains: callable\n",
            "    dash_capstyle: {'butt', 'round', 'projecting'}\n",
            "    dash_joinstyle: {'miter', 'round', 'bevel'}\n",
            "    dashes: sequence of floats (on/off ink in points) or (None, None)\n",
            "    data: (2, N) array or two 1D arrays\n",
            "    drawstyle or ds: {'default', 'steps', 'steps-pre', 'steps-mid', 'steps-post'}, default: 'default'\n",
            "    figure: `.Figure`\n",
            "    fillstyle: {'full', 'left', 'right', 'bottom', 'top', 'none'}\n",
            "    gid: str\n",
            "    in_layout: bool\n",
            "    label: object\n",
            "    linestyle or ls: {'-', '--', '-.', ':', '', (offset, on-off-seq), ...}\n",
            "    linewidth or lw: float\n",
            "    marker: marker style\n",
            "    markeredgecolor or mec: color\n",
            "    markeredgewidth or mew: float\n",
            "    markerfacecolor or mfc: color\n",
            "    markerfacecoloralt or mfcalt: color\n",
            "    markersize or ms: float\n",
            "    markevery: None or int or (int, int) or slice or List[int] or float or (float, float)\n",
            "    path_effects: `.AbstractPathEffect`\n",
            "    picker: float or callable[[Artist, Event], Tuple[bool, dict]]\n",
            "    pickradius: float\n",
            "    rasterized: bool or None\n",
            "    sketch_params: (scale: float, length: float, randomness: float)\n",
            "    snap: bool or None\n",
            "    solid_capstyle: {'butt', 'round', 'projecting'}\n",
            "    solid_joinstyle: {'miter', 'round', 'bevel'}\n",
            "    transform: `matplotlib.transforms.Transform`\n",
            "    url: str\n",
            "    visible: bool\n",
            "    xdata: 1D array\n",
            "    ydata: 1D array\n",
            "    zorder: float\n",
            "\n",
            "Returns\n",
            "-------\n",
            "lines\n",
            "    A list of `.Line2D` objects representing the plotted data.\n",
            "\n",
            "See Also\n",
            "--------\n",
            "scatter : XY scatter plot with markers of varying size and/or color (\n",
            "    sometimes also called bubble chart).\n",
            "\n",
            "Notes\n",
            "-----\n",
            "**Format Strings**\n",
            "\n",
            "A format string consists of a part for color, marker and line::\n",
            "\n",
            "    fmt = '[marker][line][color]'\n",
            "\n",
            "Each of them is optional. If not provided, the value from the style\n",
            "cycle is used. Exception: If ``line`` is given, but no ``marker``,\n",
            "the data will be a line without markers.\n",
            "\n",
            "Other combinations such as ``[color][marker][line]`` are also\n",
            "supported, but note that their parsing may be ambiguous.\n",
            "\n",
            "**Markers**\n",
            "\n",
            "=============    ===============================\n",
            "character        description\n",
            "=============    ===============================\n",
            "``'.'``          point marker\n",
            "``','``          pixel marker\n",
            "``'o'``          circle marker\n",
            "``'v'``          triangle_down marker\n",
            "``'^'``          triangle_up marker\n",
            "``'<'``          triangle_left marker\n",
            "``'>'``          triangle_right marker\n",
            "``'1'``          tri_down marker\n",
            "``'2'``          tri_up marker\n",
            "``'3'``          tri_left marker\n",
            "``'4'``          tri_right marker\n",
            "``'s'``          square marker\n",
            "``'p'``          pentagon marker\n",
            "``'*'``          star marker\n",
            "``'h'``          hexagon1 marker\n",
            "``'H'``          hexagon2 marker\n",
            "``'+'``          plus marker\n",
            "``'x'``          x marker\n",
            "``'D'``          diamond marker\n",
            "``'d'``          thin_diamond marker\n",
            "``'|'``          vline marker\n",
            "``'_'``          hline marker\n",
            "=============    ===============================\n",
            "\n",
            "**Line Styles**\n",
            "\n",
            "=============    ===============================\n",
            "character        description\n",
            "=============    ===============================\n",
            "``'-'``          solid line style\n",
            "``'--'``         dashed line style\n",
            "``'-.'``         dash-dot line style\n",
            "``':'``          dotted line style\n",
            "=============    ===============================\n",
            "\n",
            "Example format strings::\n",
            "\n",
            "    'b'    # blue markers with default shape\n",
            "    'or'   # red circles\n",
            "    '-g'   # green solid line\n",
            "    '--'   # dashed line with default color\n",
            "    '^k:'  # black triangle_up markers connected by a dotted line\n",
            "\n",
            "**Colors**\n",
            "\n",
            "The supported color abbreviations are the single letter codes\n",
            "\n",
            "=============    ===============================\n",
            "character        color\n",
            "=============    ===============================\n",
            "``'b'``          blue\n",
            "``'g'``          green\n",
            "``'r'``          red\n",
            "``'c'``          cyan\n",
            "``'m'``          magenta\n",
            "``'y'``          yellow\n",
            "``'k'``          black\n",
            "``'w'``          white\n",
            "=============    ===============================\n",
            "\n",
            "and the ``'CN'`` colors that index into the default property cycle.\n",
            "\n",
            "If the color is the only part of the format string, you can\n",
            "additionally use any  `matplotlib.colors` spec, e.g. full names\n",
            "(``'green'``) or hex strings (``'#008000'``).\n"
          ],
          "name": "stdout"
        }
      ]
    },
    {
      "cell_type": "code",
      "metadata": {
        "colab": {
          "base_uri": "https://localhost:8080/",
          "height": 265
        },
        "id": "QmXAqzp0XpEs",
        "outputId": "f48ee4d0-49f8-4d70-f3d9-85c7ce9e8d86"
      },
      "source": [
        "a = [5,10,15,20,25,30,35,40]\n",
        "b= [5,6,7,2,4,5,6,1]\n",
        "plt.plot(b,a,'ro')\n",
        "plt.ylabel('Some text')\n",
        "plt.show()"
      ],
      "execution_count": null,
      "outputs": [
        {
          "output_type": "display_data",
          "data": {
            "image/png": "[encoded data removed]",
            "text/plain": [
              "<Figure size 432x288 with 1 Axes>"
            ]
          },
          "metadata": {
            "tags": [],
            "needs_background": "light"
          }
        }
      ]
    },
    {
      "cell_type": "markdown",
      "metadata": {
        "id": "V14Et-HVXpEu"
      },
      "source": [
        "#### Row to Column Matching"
      ]
    },
    {
      "cell_type": "code",
      "metadata": {
        "id": "iiCbRIi8XpEu",
        "outputId": "3cc83dcf-c279-48f5-b752-b1f51f27f444"
      },
      "source": [
        "#plt.plot([x_data],[y_data])\n",
        "plt.plot([1, 2, 3, 4], [1, 4, 9, 16])\n",
        "plt.axis([0, 6, 0, 20])\n",
        "plt.show()"
      ],
      "execution_count": null,
      "outputs": [
        {
          "output_type": "display_data",
          "data": {
            "image/png": "[encoded data removed]",
            "text/plain": [
              "<Figure size 432x288 with 1 Axes>"
            ]
          },
          "metadata": {
            "tags": [],
            "needs_background": "light"
          }
        }
      ]
    },
    {
      "cell_type": "code",
      "metadata": {
        "id": "LsAaueElXpEv"
      },
      "source": [
        "xs = [0., 1., 2., 3., 4., 5., 6., 7.] # feature (independent variable)\n",
        "ys = [-.82, -.94, -.12, .26, .39, .64, 1.02, 1.] # labels (dependent variable)"
      ],
      "execution_count": null,
      "outputs": []
    },
    {
      "cell_type": "code",
      "metadata": {
        "id": "U60j9NgeXpEv",
        "outputId": "7a78c09d-e2f8-4187-fc24-f8a06fe1637b"
      },
      "source": [
        "fig, ax= plt.subplots()\n",
        "_ = ax.scatter(xs,ys)"
      ],
      "execution_count": null,
      "outputs": [
        {
          "output_type": "display_data",
          "data": {
            "image/png": "[encoded data removed]",
            "text/plain": [
              "<Figure size 432x288 with 1 Axes>"
            ]
          },
          "metadata": {
            "tags": [],
            "needs_background": "light"
          }
        }
      ]
    },
    {
      "cell_type": "markdown",
      "metadata": {
        "id": "gejNd_sSXpEw"
      },
      "source": [
        "#### Detemining Axis ( Formatting the plot)"
      ]
    },
    {
      "cell_type": "code",
      "metadata": {
        "id": "sFZw2ruYXpEw",
        "outputId": "785452bb-0c1c-4bd9-a30d-3c4d6c0381c8"
      },
      "source": [
        "plt.plot(xs,ys,'ro')\n",
        "plt.axis([-10,10,-10,10])\n",
        "plt.xlabel('x numbers')\n",
        "plt.ylabel('y numbers')\n",
        "plt.show()"
      ],
      "execution_count": null,
      "outputs": [
        {
          "output_type": "display_data",
          "data": {
            "image/png": "[encoded data removed]",
            "text/plain": [
              "<Figure size 432x288 with 1 Axes>"
            ]
          },
          "metadata": {
            "tags": [],
            "needs_background": "light"
          }
        }
      ]
    },
    {
      "cell_type": "markdown",
      "metadata": {
        "id": "yklVjq3OXpEx"
      },
      "source": [
        "#### Distinguishing Multiple Data input by using different indicators "
      ]
    },
    {
      "cell_type": "code",
      "metadata": {
        "id": "yZ__wVm3XpEy",
        "outputId": "6c4285a5-14af-4923-843e-7f4e6e4a635e"
      },
      "source": [
        "arr = np.arange(0.,5.,0.2)\n",
        "# 'r--' indicator uses red dashes to show the data\n",
        "# 'bs' indicator uses blue squares to show the data\n",
        "# 'y^' indicator uses yellow triangles to show the data\n",
        "# 'k' stands for black color\n",
        "plt.plot(arr,arr,'r--',arr,np.tan(arr),'bs',arr,arr**3,'y^',arr,arr**2,'g^')\n",
        "plt.title('Test')\n",
        "plt.show()"
      ],
      "execution_count": null,
      "outputs": [
        {
          "output_type": "display_data",
          "data": {
            "image/png": "[encoded data removed]",
            "text/plain": [
              "<Figure size 432x288 with 1 Axes>"
            ]
          },
          "metadata": {
            "tags": [],
            "needs_background": "light"
          }
        }
      ]
    },
    {
      "cell_type": "markdown",
      "metadata": {
        "id": "HXhiXKDPXpEy"
      },
      "source": [
        "#### Plotting with keyword strings"
      ]
    },
    {
      "cell_type": "code",
      "metadata": {
        "id": "_dGrbmPEXpEz",
        "outputId": "6a079479-e9fc-4d99-a3c6-adf86a060645"
      },
      "source": [
        "data = {'a': [1,3,5,7,8],\n",
        "        'c': [1,1,1,1,1],\n",
        "        'd': [1,1,1,1,1],\n",
        "        'b': [5,8,9,5,4]}\n",
        "data['d'] = np.abs(data['d']) * 100\n",
        "\n",
        "plt.scatter('a', 'b',c='c', s='d', data=data) \n",
        "# First input gets the data for x axis\n",
        "# Second input gets the data for y axis\n",
        "# 'data' attribute gets the name of the dictionary data\n",
        "## datatype of data can also be similar to dictionary. as Matplotlib docs mentioned:\n",
        "## *** There are some instances where you have data in a format that lets you access particular variables with strings. For example, with numpy.recarray or pandas.DataFrame. ***\n",
        "# 'c=' attribute gets color for each data. (optional)\n",
        "## The colors has no specific limit because it the color values are proportionally used to colorized the canvas\n",
        "## Maximum value has yellow color and minimum value has dark magneto color\n",
        "# 's=' attribute gets the sizes of each data (optional)\n",
        "## the values are proportional to the each other and also to the axis\n",
        "plt.xlabel('entry a')\n",
        "plt.ylabel('entry b')\n",
        "plt.show()"
      ],
      "execution_count": null,
      "outputs": [
        {
          "output_type": "display_data",
          "data": {
            "image/png": "[encoded data removed]",
            "text/plain": [
              "<Figure size 432x288 with 1 Axes>"
            ]
          },
          "metadata": {
            "tags": [],
            "needs_background": "light"
          }
        }
      ]
    },
    {
      "cell_type": "code",
      "metadata": {
        "id": "wZmIc89yXpEz",
        "outputId": "687a7b47-1a7e-43cd-f71e-ec9f75cdd0d9"
      },
      "source": [
        "datax = {'a': [1,3,5,7,8],\n",
        "         'c': [2,3,4,5,6],\n",
        "         'd': [3,7,3,12,2],\n",
        "         'b': [5,8,9,5,4]}\n",
        "datax['d'] = np.abs(datax['d']) * 100\n",
        "\n",
        "plt.scatter('a', 'b',c='c',s='d', data=datax,marker='.')\n",
        "plt.xlabel('entry a')\n",
        "plt.ylabel('entry b')\n",
        "plt.show()"
      ],
      "execution_count": null,
      "outputs": [
        {
          "output_type": "display_data",
          "data": {
            "image/png": "[encoded data removed]",
            "text/plain": [
              "<Figure size 432x288 with 1 Axes>"
            ]
          },
          "metadata": {
            "tags": [],
            "needs_background": "light"
          }
        }
      ]
    },
    {
      "cell_type": "code",
      "metadata": {
        "id": "Ljiz9F6HXpE0",
        "outputId": "82fdbbe4-0585-4342-e361-11c0d4d51128"
      },
      "source": [
        "data['d']"
      ],
      "execution_count": null,
      "outputs": [
        {
          "output_type": "execute_result",
          "data": {
            "text/plain": [
              "array([100, 100, 100, 100, 100])"
            ]
          },
          "metadata": {
            "tags": []
          },
          "execution_count": 10
        }
      ]
    },
    {
      "cell_type": "code",
      "metadata": {
        "id": "3AYxPAdaXpE0",
        "outputId": "07d8194a-e9a1-4f9f-8ed4-8b227c35a123"
      },
      "source": [
        "datax['d']"
      ],
      "execution_count": null,
      "outputs": [
        {
          "output_type": "execute_result",
          "data": {
            "text/plain": [
              "array([ 300,  700,  300, 1200,  200])"
            ]
          },
          "metadata": {
            "tags": []
          },
          "execution_count": 11
        }
      ]
    },
    {
      "cell_type": "markdown",
      "metadata": {
        "id": "flp6HO3oXpE1"
      },
      "source": [
        "#### Plotting with categorical variables"
      ]
    },
    {
      "cell_type": "code",
      "metadata": {
        "id": "ebartg56XpE1",
        "outputId": "60d7420b-f89f-4a52-c967-ca9a6e153055"
      },
      "source": [
        "names = ['group_a', 'group_b', 'group_c','group_d']\n",
        "values = [1,10,50,100]\n",
        "\n",
        "plt.figure(figsize=(20,3))\n",
        "\n",
        "ax= plt.subplot(131)\n",
        "ax.bar(names, values)\n",
        "plt.subplot(132)\n",
        "plt.scatter(names, values)\n",
        "plt.subplot(133)\n",
        "plt.plot(names, values)\n",
        "plt.suptitle('Categorical Plotting')\n",
        "plt.show()"
      ],
      "execution_count": null,
      "outputs": [
        {
          "output_type": "display_data",
          "data": {
            "image/png": "[encoded data removed]",
            "text/plain": [
              "<Figure size 1440x216 with 3 Axes>"
            ]
          },
          "metadata": {
            "tags": [],
            "needs_background": "light"
          }
        }
      ]
    },
    {
      "cell_type": "markdown",
      "metadata": {
        "id": "rIfl1w4EXpE2"
      },
      "source": [
        "#### Working with multiple figures and axes"
      ]
    },
    {
      "cell_type": "code",
      "metadata": {
        "id": "RbkTLbk2XpE2",
        "outputId": "28b3e434-7201-4539-8268-6be48cb0f4f9"
      },
      "source": [
        "def f(t):\n",
        "    return np.exp(-t) * np.cos(2*np.pi*t)\n",
        "\n",
        "t1 = np.arange(0.0, 5.0, 0.1)\n",
        "t2 = np.arange(0.0, 5.0, 0.02)\n",
        "\n",
        "plt.figure()\n",
        "plt.subplot(211)\n",
        "plt.plot(t1, f(t1), 'bo', t2, f(t2), 'k--')\n",
        "\n",
        "plt.subplot(212)\n",
        "plt.plot(t2, np.cos(2*np.pi*t2), 'r--')\n",
        "plt.show()"
      ],
      "execution_count": null,
      "outputs": [
        {
          "output_type": "display_data",
          "data": {
            "image/png": "[encoded data removed]",
            "text/plain": [
              "<Figure size 432x288 with 2 Axes>"
            ]
          },
          "metadata": {
            "tags": [],
            "needs_background": "light"
          }
        }
      ]
    },
    {
      "cell_type": "code",
      "metadata": {
        "id": "VMMnW0o7XpE3",
        "outputId": "4829d5d2-e611-43f4-b206-784c47014502"
      },
      "source": [
        "np.cos(2*np.pi*t2)"
      ],
      "execution_count": null,
      "outputs": [
        {
          "output_type": "execute_result",
          "data": {
            "text/plain": [
              "array([ 1.        ,  0.9921147 ,  0.96858316,  0.92977649,  0.87630668,\n",
              "        0.80901699,  0.72896863,  0.63742399,  0.53582679,  0.42577929,\n",
              "        0.30901699,  0.18738131,  0.06279052, -0.06279052, -0.18738131,\n",
              "       -0.30901699, -0.42577929, -0.53582679, -0.63742399, -0.72896863,\n",
              "       -0.80901699, -0.87630668, -0.92977649, -0.96858316, -0.9921147 ,\n",
              "       -1.        , -0.9921147 , -0.96858316, -0.92977649, -0.87630668,\n",
              "       -0.80901699, -0.72896863, -0.63742399, -0.53582679, -0.42577929,\n",
              "       -0.30901699, -0.18738131, -0.06279052,  0.06279052,  0.18738131,\n",
              "        0.30901699,  0.42577929,  0.53582679,  0.63742399,  0.72896863,\n",
              "        0.80901699,  0.87630668,  0.92977649,  0.96858316,  0.9921147 ,\n",
              "        1.        ,  0.9921147 ,  0.96858316,  0.92977649,  0.87630668,\n",
              "        0.80901699,  0.72896863,  0.63742399,  0.53582679,  0.42577929,\n",
              "        0.30901699,  0.18738131,  0.06279052, -0.06279052, -0.18738131,\n",
              "       -0.30901699, -0.42577929, -0.53582679, -0.63742399, -0.72896863,\n",
              "       -0.80901699, -0.87630668, -0.92977649, -0.96858316, -0.9921147 ,\n",
              "       -1.        , -0.9921147 , -0.96858316, -0.92977649, -0.87630668,\n",
              "       -0.80901699, -0.72896863, -0.63742399, -0.53582679, -0.42577929,\n",
              "       -0.30901699, -0.18738131, -0.06279052,  0.06279052,  0.18738131,\n",
              "        0.30901699,  0.42577929,  0.53582679,  0.63742399,  0.72896863,\n",
              "        0.80901699,  0.87630668,  0.92977649,  0.96858316,  0.9921147 ,\n",
              "        1.        ,  0.9921147 ,  0.96858316,  0.92977649,  0.87630668,\n",
              "        0.80901699,  0.72896863,  0.63742399,  0.53582679,  0.42577929,\n",
              "        0.30901699,  0.18738131,  0.06279052, -0.06279052, -0.18738131,\n",
              "       -0.30901699, -0.42577929, -0.53582679, -0.63742399, -0.72896863,\n",
              "       -0.80901699, -0.87630668, -0.92977649, -0.96858316, -0.9921147 ,\n",
              "       -1.        , -0.9921147 , -0.96858316, -0.92977649, -0.87630668,\n",
              "       -0.80901699, -0.72896863, -0.63742399, -0.53582679, -0.42577929,\n",
              "       -0.30901699, -0.18738131, -0.06279052,  0.06279052,  0.18738131,\n",
              "        0.30901699,  0.42577929,  0.53582679,  0.63742399,  0.72896863,\n",
              "        0.80901699,  0.87630668,  0.92977649,  0.96858316,  0.9921147 ,\n",
              "        1.        ,  0.9921147 ,  0.96858316,  0.92977649,  0.87630668,\n",
              "        0.80901699,  0.72896863,  0.63742399,  0.53582679,  0.42577929,\n",
              "        0.30901699,  0.18738131,  0.06279052, -0.06279052, -0.18738131,\n",
              "       -0.30901699, -0.42577929, -0.53582679, -0.63742399, -0.72896863,\n",
              "       -0.80901699, -0.87630668, -0.92977649, -0.96858316, -0.9921147 ,\n",
              "       -1.        , -0.9921147 , -0.96858316, -0.92977649, -0.87630668,\n",
              "       -0.80901699, -0.72896863, -0.63742399, -0.53582679, -0.42577929,\n",
              "       -0.30901699, -0.18738131, -0.06279052,  0.06279052,  0.18738131,\n",
              "        0.30901699,  0.42577929,  0.53582679,  0.63742399,  0.72896863,\n",
              "        0.80901699,  0.87630668,  0.92977649,  0.96858316,  0.9921147 ,\n",
              "        1.        ,  0.9921147 ,  0.96858316,  0.92977649,  0.87630668,\n",
              "        0.80901699,  0.72896863,  0.63742399,  0.53582679,  0.42577929,\n",
              "        0.30901699,  0.18738131,  0.06279052, -0.06279052, -0.18738131,\n",
              "       -0.30901699, -0.42577929, -0.53582679, -0.63742399, -0.72896863,\n",
              "       -0.80901699, -0.87630668, -0.92977649, -0.96858316, -0.9921147 ,\n",
              "       -1.        , -0.9921147 , -0.96858316, -0.92977649, -0.87630668,\n",
              "       -0.80901699, -0.72896863, -0.63742399, -0.53582679, -0.42577929,\n",
              "       -0.30901699, -0.18738131, -0.06279052,  0.06279052,  0.18738131,\n",
              "        0.30901699,  0.42577929,  0.53582679,  0.63742399,  0.72896863,\n",
              "        0.80901699,  0.87630668,  0.92977649,  0.96858316,  0.9921147 ])"
            ]
          },
          "metadata": {
            "tags": []
          },
          "execution_count": 28
        }
      ]
    },
    {
      "cell_type": "code",
      "metadata": {
        "id": "JQwsY7B7XpE3",
        "outputId": "87a3c7e3-11fa-4522-98c7-81e279b08f5c"
      },
      "source": [
        "2*np.pi*t2"
      ],
      "execution_count": null,
      "outputs": [
        {
          "output_type": "execute_result",
          "data": {
            "text/plain": [
              "array([ 0.        ,  0.12566371,  0.25132741,  0.37699112,  0.50265482,\n",
              "        0.62831853,  0.75398224,  0.87964594,  1.00530965,  1.13097336,\n",
              "        1.25663706,  1.38230077,  1.50796447,  1.63362818,  1.75929189,\n",
              "        1.88495559,  2.0106193 ,  2.136283  ,  2.26194671,  2.38761042,\n",
              "        2.51327412,  2.63893783,  2.76460154,  2.89026524,  3.01592895,\n",
              "        3.14159265,  3.26725636,  3.39292007,  3.51858377,  3.64424748,\n",
              "        3.76991118,  3.89557489,  4.0212386 ,  4.1469023 ,  4.27256601,\n",
              "        4.39822972,  4.52389342,  4.64955713,  4.77522083,  4.90088454,\n",
              "        5.02654825,  5.15221195,  5.27787566,  5.40353936,  5.52920307,\n",
              "        5.65486678,  5.78053048,  5.90619419,  6.03185789,  6.1575216 ,\n",
              "        6.28318531,  6.40884901,  6.53451272,  6.66017643,  6.78584013,\n",
              "        6.91150384,  7.03716754,  7.16283125,  7.28849496,  7.41415866,\n",
              "        7.53982237,  7.66548607,  7.79114978,  7.91681349,  8.04247719,\n",
              "        8.1681409 ,  8.29380461,  8.41946831,  8.54513202,  8.67079572,\n",
              "        8.79645943,  8.92212314,  9.04778684,  9.17345055,  9.29911425,\n",
              "        9.42477796,  9.55044167,  9.67610537,  9.80176908,  9.92743279,\n",
              "       10.05309649, 10.1787602 , 10.3044239 , 10.43008761, 10.55575132,\n",
              "       10.68141502, 10.80707873, 10.93274243, 11.05840614, 11.18406985,\n",
              "       11.30973355, 11.43539726, 11.56106097, 11.68672467, 11.81238838,\n",
              "       11.93805208, 12.06371579, 12.1893795 , 12.3150432 , 12.44070691,\n",
              "       12.56637061, 12.69203432, 12.81769803, 12.94336173, 13.06902544,\n",
              "       13.19468915, 13.32035285, 13.44601656, 13.57168026, 13.69734397,\n",
              "       13.82300768, 13.94867138, 14.07433509, 14.19999879, 14.3256625 ,\n",
              "       14.45132621, 14.57698991, 14.70265362, 14.82831732, 14.95398103,\n",
              "       15.07964474, 15.20530844, 15.33097215, 15.45663586, 15.58229956,\n",
              "       15.70796327, 15.83362697, 15.95929068, 16.08495439, 16.21061809,\n",
              "       16.3362818 , 16.4619455 , 16.58760921, 16.71327292, 16.83893662,\n",
              "       16.96460033, 17.09026404, 17.21592774, 17.34159145, 17.46725515,\n",
              "       17.59291886, 17.71858257, 17.84424627, 17.96990998, 18.09557368,\n",
              "       18.22123739, 18.3469011 , 18.4725648 , 18.59822851, 18.72389222,\n",
              "       18.84955592, 18.97521963, 19.10088333, 19.22654704, 19.35221075,\n",
              "       19.47787445, 19.60353816, 19.72920186, 19.85486557, 19.98052928,\n",
              "       20.10619298, 20.23185669, 20.3575204 , 20.4831841 , 20.60884781,\n",
              "       20.73451151, 20.86017522, 20.98583893, 21.11150263, 21.23716634,\n",
              "       21.36283004, 21.48849375, 21.61415746, 21.73982116, 21.86548487,\n",
              "       21.99114858, 22.11681228, 22.24247599, 22.36813969, 22.4938034 ,\n",
              "       22.61946711, 22.74513081, 22.87079452, 22.99645822, 23.12212193,\n",
              "       23.24778564, 23.37344934, 23.49911305, 23.62477675, 23.75044046,\n",
              "       23.87610417, 24.00176787, 24.12743158, 24.25309529, 24.37875899,\n",
              "       24.5044227 , 24.6300864 , 24.75575011, 24.88141382, 25.00707752,\n",
              "       25.13274123, 25.25840493, 25.38406864, 25.50973235, 25.63539605,\n",
              "       25.76105976, 25.88672347, 26.01238717, 26.13805088, 26.26371458,\n",
              "       26.38937829, 26.515042  , 26.6407057 , 26.76636941, 26.89203311,\n",
              "       27.01769682, 27.14336053, 27.26902423, 27.39468794, 27.52035165,\n",
              "       27.64601535, 27.77167906, 27.89734276, 28.02300647, 28.14867018,\n",
              "       28.27433388, 28.39999759, 28.52566129, 28.651325  , 28.77698871,\n",
              "       28.90265241, 29.02831612, 29.15397983, 29.27964353, 29.40530724,\n",
              "       29.53097094, 29.65663465, 29.78229836, 29.90796206, 30.03362577,\n",
              "       30.15928947, 30.28495318, 30.41061689, 30.53628059, 30.6619443 ,\n",
              "       30.78760801, 30.91327171, 31.03893542, 31.16459912, 31.29026283])"
            ]
          },
          "metadata": {
            "tags": []
          },
          "execution_count": 29
        }
      ]
    },
    {
      "cell_type": "code",
      "metadata": {
        "id": "cGMR9tgTXpE3",
        "outputId": "d5f4549e-f845-438e-9565-17760af09005"
      },
      "source": [
        "t2"
      ],
      "execution_count": null,
      "outputs": [
        {
          "output_type": "execute_result",
          "data": {
            "text/plain": [
              "array([0.  , 0.02, 0.04, 0.06, 0.08, 0.1 , 0.12, 0.14, 0.16, 0.18, 0.2 ,\n",
              "       0.22, 0.24, 0.26, 0.28, 0.3 , 0.32, 0.34, 0.36, 0.38, 0.4 , 0.42,\n",
              "       0.44, 0.46, 0.48, 0.5 , 0.52, 0.54, 0.56, 0.58, 0.6 , 0.62, 0.64,\n",
              "       0.66, 0.68, 0.7 , 0.72, 0.74, 0.76, 0.78, 0.8 , 0.82, 0.84, 0.86,\n",
              "       0.88, 0.9 , 0.92, 0.94, 0.96, 0.98, 1.  , 1.02, 1.04, 1.06, 1.08,\n",
              "       1.1 , 1.12, 1.14, 1.16, 1.18, 1.2 , 1.22, 1.24, 1.26, 1.28, 1.3 ,\n",
              "       1.32, 1.34, 1.36, 1.38, 1.4 , 1.42, 1.44, 1.46, 1.48, 1.5 , 1.52,\n",
              "       1.54, 1.56, 1.58, 1.6 , 1.62, 1.64, 1.66, 1.68, 1.7 , 1.72, 1.74,\n",
              "       1.76, 1.78, 1.8 , 1.82, 1.84, 1.86, 1.88, 1.9 , 1.92, 1.94, 1.96,\n",
              "       1.98, 2.  , 2.02, 2.04, 2.06, 2.08, 2.1 , 2.12, 2.14, 2.16, 2.18,\n",
              "       2.2 , 2.22, 2.24, 2.26, 2.28, 2.3 , 2.32, 2.34, 2.36, 2.38, 2.4 ,\n",
              "       2.42, 2.44, 2.46, 2.48, 2.5 , 2.52, 2.54, 2.56, 2.58, 2.6 , 2.62,\n",
              "       2.64, 2.66, 2.68, 2.7 , 2.72, 2.74, 2.76, 2.78, 2.8 , 2.82, 2.84,\n",
              "       2.86, 2.88, 2.9 , 2.92, 2.94, 2.96, 2.98, 3.  , 3.02, 3.04, 3.06,\n",
              "       3.08, 3.1 , 3.12, 3.14, 3.16, 3.18, 3.2 , 3.22, 3.24, 3.26, 3.28,\n",
              "       3.3 , 3.32, 3.34, 3.36, 3.38, 3.4 , 3.42, 3.44, 3.46, 3.48, 3.5 ,\n",
              "       3.52, 3.54, 3.56, 3.58, 3.6 , 3.62, 3.64, 3.66, 3.68, 3.7 , 3.72,\n",
              "       3.74, 3.76, 3.78, 3.8 , 3.82, 3.84, 3.86, 3.88, 3.9 , 3.92, 3.94,\n",
              "       3.96, 3.98, 4.  , 4.02, 4.04, 4.06, 4.08, 4.1 , 4.12, 4.14, 4.16,\n",
              "       4.18, 4.2 , 4.22, 4.24, 4.26, 4.28, 4.3 , 4.32, 4.34, 4.36, 4.38,\n",
              "       4.4 , 4.42, 4.44, 4.46, 4.48, 4.5 , 4.52, 4.54, 4.56, 4.58, 4.6 ,\n",
              "       4.62, 4.64, 4.66, 4.68, 4.7 , 4.72, 4.74, 4.76, 4.78, 4.8 , 4.82,\n",
              "       4.84, 4.86, 4.88, 4.9 , 4.92, 4.94, 4.96, 4.98])"
            ]
          },
          "metadata": {
            "tags": []
          },
          "execution_count": 31
        }
      ]
    },
    {
      "cell_type": "code",
      "metadata": {
        "id": "BK0RmoifXpE4",
        "outputId": "d10395ae-830e-4885-fe29-5e987c38a5f8"
      },
      "source": [
        "np.cos(1)"
      ],
      "execution_count": null,
      "outputs": [
        {
          "output_type": "execute_result",
          "data": {
            "text/plain": [
              "0.5403023058681398"
            ]
          },
          "metadata": {
            "tags": []
          },
          "execution_count": 32
        }
      ]
    },
    {
      "cell_type": "code",
      "metadata": {
        "id": "JkP84Ka4XpE4",
        "outputId": "438cb60f-7246-4b39-ec04-a86c1a7ad369"
      },
      "source": [
        "np.cos(1.570)"
      ],
      "execution_count": null,
      "outputs": [
        {
          "output_type": "execute_result",
          "data": {
            "text/plain": [
              "0.0007963267107332633"
            ]
          },
          "metadata": {
            "tags": []
          },
          "execution_count": 68
        }
      ]
    },
    {
      "cell_type": "code",
      "metadata": {
        "id": "PT25fJRHXpE4",
        "outputId": "caec6881-4b8f-4ba0-b51d-8e50d6d8b435"
      },
      "source": [
        "np.cos(2)"
      ],
      "execution_count": null,
      "outputs": [
        {
          "output_type": "execute_result",
          "data": {
            "text/plain": [
              "-0.4161468365471424"
            ]
          },
          "metadata": {
            "tags": []
          },
          "execution_count": 34
        }
      ]
    },
    {
      "cell_type": "code",
      "metadata": {
        "id": "0KO-8ARBXpE5",
        "outputId": "9b93d180-b37f-4af9-d172-949e371af9d6"
      },
      "source": [
        "def cos(num):\n",
        "    return np.cos(num)\n",
        "assert(cos(2)>= 0),'go there'"
      ],
      "execution_count": null,
      "outputs": [
        {
          "output_type": "error",
          "ename": "AssertionError",
          "evalue": "go there",
          "traceback": [
            "\u001b[1;31m---------------------------------------------------------------------------\u001b[0m",
            "\u001b[1;31mAssertionError\u001b[0m                            Traceback (most recent call last)",
            "\u001b[1;32m<ipython-input-42-05b0c760a1e6>\u001b[0m in \u001b[0;36m<module>\u001b[1;34m\u001b[0m\n\u001b[0;32m      1\u001b[0m \u001b[1;32mdef\u001b[0m \u001b[0mcos\u001b[0m\u001b[1;33m(\u001b[0m\u001b[0mnum\u001b[0m\u001b[1;33m)\u001b[0m\u001b[1;33m:\u001b[0m\u001b[1;33m\u001b[0m\u001b[1;33m\u001b[0m\u001b[0m\n\u001b[0;32m      2\u001b[0m     \u001b[1;32mreturn\u001b[0m \u001b[0mnp\u001b[0m\u001b[1;33m.\u001b[0m\u001b[0mcos\u001b[0m\u001b[1;33m(\u001b[0m\u001b[0mnum\u001b[0m\u001b[1;33m)\u001b[0m\u001b[1;33m\u001b[0m\u001b[1;33m\u001b[0m\u001b[0m\n\u001b[1;32m----> 3\u001b[1;33m \u001b[1;32massert\u001b[0m\u001b[1;33m(\u001b[0m\u001b[0mcos\u001b[0m\u001b[1;33m(\u001b[0m\u001b[1;36m2\u001b[0m\u001b[1;33m)\u001b[0m\u001b[1;33m>=\u001b[0m \u001b[1;36m0\u001b[0m\u001b[1;33m)\u001b[0m\u001b[1;33m,\u001b[0m\u001b[1;34m'go there'\u001b[0m\u001b[1;33m\u001b[0m\u001b[1;33m\u001b[0m\u001b[0m\n\u001b[0m",
            "\u001b[1;31mAssertionError\u001b[0m: go there"
          ]
        }
      ]
    },
    {
      "cell_type": "code",
      "metadata": {
        "id": "GuTVCHMlXpE5",
        "outputId": "71b9efa5-638e-490a-9a04-ee510a135698"
      },
      "source": [
        "import matplotlib.pyplot as plt\n",
        "plt.figure(1)                # the first figure\n",
        "plt.subplot(211)# the first subplot in the first figure\n",
        "plt.plot([1, 5, 12])\n",
        "plt.subplot(212)             # the second subplot in the first figure\n",
        "plt.plot([4, 5, 9])\n",
        "\n",
        "\n",
        "plt.figure(2)                # a second figure\n",
        "plt.plot([4, 5, 6])          # creates a subplot(111) by default\n",
        "# To change an attribute of an already called subplot, you must specify the figure and the plot number again\n",
        "plt.figure(1)                # figure 1 current; subplot(212) still current\n",
        "plt.subplot(211)  # make subplot(211) in figure1 current\n",
        "plt.title('Easy as 1, 2, 3') # subplot 211 title"
      ],
      "execution_count": null,
      "outputs": [
        {
          "output_type": "execute_result",
          "data": {
            "text/plain": [
              "Text(0.5, 1.0, 'Easy as 1, 2, 3')"
            ]
          },
          "metadata": {
            "tags": []
          },
          "execution_count": 104
        },
        {
          "output_type": "display_data",
          "data": {
            "image/png": "[encoded data removed]",
            "text/plain": [
              "<Figure size 432x288 with 2 Axes>"
            ]
          },
          "metadata": {
            "tags": [],
            "needs_background": "light"
          }
        },
        {
          "output_type": "display_data",
          "data": {
            "image/png": "[encoded data removed]",
            "text/plain": [
              "<Figure size 432x288 with 1 Axes>"
            ]
          },
          "metadata": {
            "tags": [],
            "needs_background": "light"
          }
        }
      ]
    },
    {
      "cell_type": "markdown",
      "metadata": {
        "id": "4SmYBIIvXpE6"
      },
      "source": [
        "#### Working with Text"
      ]
    },
    {
      "cell_type": "code",
      "metadata": {
        "id": "aPcKutUzXpE6",
        "outputId": "ebdeb75b-bc2e-4a6e-ebb6-7b0692f142af"
      },
      "source": [
        "mu, sigma = 100, 15\n",
        "x = mu + sigma * np.random.randn(10000)\n",
        "\n",
        "# the histogram of the data\n",
        "n,bins, patches = plt.hist(x, 50, density=1, facecolor='g', alpha=0.75)\n",
        "\n",
        "\n",
        "plt.xlabel('Smarts')\n",
        "plt.ylabel('Probability', fontsize=15,color='red')\n",
        "plt.title('Histogram of IQ')\n",
        "plt.text(60, .025, r'$\\mu=100,\\ \\sigma=15$') # using mathematical expression in text by writing in between a pair of dollar sign ($)\n",
        "## the symbol starts with a backslash (\\)\n",
        "plt.axis([40, 160, 0, 0.03])\n",
        "plt.grid(True)\n",
        "plt.show()"
      ],
      "execution_count": null,
      "outputs": [
        {
          "output_type": "display_data",
          "data": {
            "image/png": "[encoded data removed]",
            "text/plain": [
              "<Figure size 432x288 with 1 Axes>"
            ]
          },
          "metadata": {
            "tags": [],
            "needs_background": "light"
          }
        }
      ]
    },
    {
      "cell_type": "code",
      "metadata": {
        "id": "-zr80p-VXpE7",
        "outputId": "b44853df-6d6e-4ff4-f720-210e0f3e45ba"
      },
      "source": [
        "x"
      ],
      "execution_count": null,
      "outputs": [
        {
          "output_type": "execute_result",
          "data": {
            "text/plain": [
              "array([108.92282669,  88.52214648, 107.60411306, ..., 135.99218057,\n",
              "       104.22987608, 116.64808303])"
            ]
          },
          "metadata": {
            "tags": []
          },
          "execution_count": 70
        }
      ]
    },
    {
      "cell_type": "markdown",
      "metadata": {
        "id": "474WkP4QXpE8"
      },
      "source": [
        "####  Annotating Text"
      ]
    },
    {
      "cell_type": "code",
      "metadata": {
        "id": "SpsFcoKfXpE8",
        "outputId": "56399327-ecec-40fe-86aa-ba252be9f29d"
      },
      "source": [
        "ax = plt.subplot(111)\n",
        "\n",
        "t = np.arange(0.0, 5.0, 0.01)\n",
        "s = np.cos(2*np.pi*t)\n",
        "line, = plt.plot(t, s, lw=2)\n",
        "\n",
        "plt.annotate('local max', xy=(2, 1), xytext=(3, 1.5),\n",
        "             arrowprops={'facecolor':'black', 'shrink':5}# arrowprops gets a dictoinary of attributes\n",
        "             )\n",
        "\n",
        "plt.ylim(-2, 2)\n",
        "plt.show()"
      ],
      "execution_count": null,
      "outputs": [
        {
          "output_type": "display_data",
          "data": {
            "image/png": "[encoded data removed]",
            "text/plain": [
              "<Figure size 432x288 with 1 Axes>"
            ]
          },
          "metadata": {
            "tags": [],
            "needs_background": "light"
          }
        }
      ]
    },
    {
      "cell_type": "markdown",
      "metadata": {
        "id": "I7RVW1lPXpE8"
      },
      "source": [
        "#### some nonlinear axes"
      ]
    },
    {
      "cell_type": "code",
      "metadata": {
        "id": "pRDnfU12XpE9",
        "outputId": "6f690432-ca19-45cf-f654-aea0cecd4a04"
      },
      "source": [
        "from matplotlib.ticker import NullFormatter  # useful for `logit` scale\n",
        "\n",
        "# Fixing random state for reproducibility\n",
        "np.random.seed(19680801)\n",
        "\n",
        "# make up some data in the interval ]0, 1[\n",
        "y = np.random.normal(loc=0.5, scale=0.4, size=1000)\n",
        "y = y[(y > 0) & (y < 1)]\n",
        "y.sort()\n",
        "x = np.arange(len(y))\n",
        "\n",
        "# plot with various axes scales\n",
        "plt.figure(figsize=(20,10))\n",
        "\n",
        "# linear\n",
        "plt.subplot(221)\n",
        "plt.plot(x, y)\n",
        "plt.yscale('linear')\n",
        "plt.title('linear')\n",
        "plt.grid(True)\n",
        "\n",
        "\n",
        "# log\n",
        "plt.subplot(222)\n",
        "plt.plot(x, y)\n",
        "plt.yscale('log')\n",
        "plt.title('log')\n",
        "plt.grid(True)\n",
        "\n",
        "\n",
        "# symmetric log\n",
        "plt.subplot(223)\n",
        "plt.plot(x, y - y.mean())\n",
        "plt.yscale('symlog', linthreshy=0.01)\n",
        "plt.title('symlog')\n",
        "plt.grid(True)\n",
        "\n",
        "# logit\n",
        "plt.subplot(224)\n",
        "plt.plot(x, y)\n",
        "plt.yscale('logit')\n",
        "plt.title('logit')\n",
        "plt.grid(True)\n",
        "# Format the minor tick labels of the y-axis into empty strings with\n",
        "# `NullFormatter`, to avoid cumbering the axis with too many labels.\n",
        "plt.gca().yaxis.set_minor_formatter(NullFormatter())\n",
        "# Adjust the subplot layout, because the logit one may take more space\n",
        "# than usual, due to y-tick labels like \"1 - 10^{-3}\"\n",
        "plt.subplots_adjust(top=0.92, bottom=0.08, left=0.10, right=0.95, hspace=0.25,\n",
        "                    wspace=0.35)\n",
        "\n",
        "plt.show()"
      ],
      "execution_count": null,
      "outputs": [
        {
          "output_type": "display_data",
          "data": {
            "image/png": "[encoded data removed]",
            "text/plain": [
              "<Figure size 1440x720 with 4 Axes>"
            ]
          },
          "metadata": {
            "tags": [],
            "needs_background": "light"
          }
        }
      ]
    },
    {
      "cell_type": "code",
      "metadata": {
        "id": "Pj-dT7OHXpE-",
        "outputId": "b662a990-794a-465e-b1ec-90854a27f845"
      },
      "source": [
        "np.random.seed(42)\n",
        "a= np.random.randint(5)\n",
        "print(a)"
      ],
      "execution_count": null,
      "outputs": [
        {
          "output_type": "stream",
          "text": [
            "3\n"
          ],
          "name": "stdout"
        }
      ]
    },
    {
      "cell_type": "code",
      "metadata": {
        "id": "sRnoWZZ1XpE_",
        "outputId": "aedc4aae-6159-4a29-e5ff-9ead3d4ec8fd"
      },
      "source": [
        "np.random.seed(42)\n",
        "a = np.random.randint(5)\n",
        "print(a)"
      ],
      "execution_count": null,
      "outputs": [
        {
          "output_type": "stream",
          "text": [
            "3\n"
          ],
          "name": "stdout"
        }
      ]
    },
    {
      "cell_type": "code",
      "metadata": {
        "id": "o3LIQoF1XpFA",
        "outputId": "29ebfed6-299d-42d9-e50f-fa2b61d78a60"
      },
      "source": [
        "np.random.seed(42)\n",
        "a = np.random.randint(500)\n",
        "print(a)"
      ],
      "execution_count": null,
      "outputs": [
        {
          "output_type": "stream",
          "text": [
            "102\n"
          ],
          "name": "stdout"
        }
      ]
    },
    {
      "cell_type": "code",
      "metadata": {
        "id": "wVxbk-UpXpFA"
      },
      "source": [
        ""
      ],
      "execution_count": null,
      "outputs": []
    }
  ]
}